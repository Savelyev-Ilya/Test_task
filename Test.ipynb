{
 "cells": [
  {
   "cell_type": "code",
   "execution_count": 1,
   "id": "f7470cf2",
   "metadata": {},
   "outputs": [],
   "source": [
    "from pyspark.sql import SparkSession\n",
    "from pyspark.sql import functions as f"
   ]
  },
  {
   "cell_type": "code",
   "execution_count": 2,
   "id": "1870a558",
   "metadata": {},
   "outputs": [
    {
     "name": "stderr",
     "output_type": "stream",
     "text": [
      "23/09/03 10:38:28 WARN Utils: Your hostname, MacBook-Air-2.local resolves to a loopback address: 127.0.0.1; using 172.20.10.2 instead (on interface en0)\n",
      "23/09/03 10:38:28 WARN Utils: Set SPARK_LOCAL_IP if you need to bind to another address\n",
      "Setting default log level to \"WARN\".\n",
      "To adjust logging level use sc.setLogLevel(newLevel). For SparkR, use setLogLevel(newLevel).\n",
      "23/09/03 10:38:28 WARN NativeCodeLoader: Unable to load native-hadoop library for your platform... using builtin-java classes where applicable\n"
     ]
    }
   ],
   "source": [
    "spark = SparkSession.builder.master('local').appName('Test').getOrCreate()"
   ]
  },
  {
   "cell_type": "markdown",
   "id": "021ce099",
   "metadata": {},
   "source": [
    "<b>Task 1</b>"
   ]
  },
  {
   "cell_type": "code",
   "execution_count": 3,
   "id": "ac2e4208",
   "metadata": {},
   "outputs": [],
   "source": [
    "path = \"/Users/Savelyev_Ilya/Desktop/Task1.csv\""
   ]
  },
  {
   "cell_type": "code",
   "execution_count": 4,
   "id": "a39a0700",
   "metadata": {},
   "outputs": [
    {
     "name": "stderr",
     "output_type": "stream",
     "text": [
      "                                                                                \r"
     ]
    }
   ],
   "source": [
    "df = spark.read.option(\"header\", True).csv(path)"
   ]
  },
  {
   "cell_type": "code",
   "execution_count": 5,
   "id": "cd506ad7",
   "metadata": {},
   "outputs": [
    {
     "name": "stdout",
     "output_type": "stream",
     "text": [
      "+----------+----------+----------+-----------------+\n",
      "|id_cliente|    nombre|       dia|numero de accesos|\n",
      "+----------+----------+----------+-----------------+\n",
      "|         1|    Repsol|01.01.2023|               30|\n",
      "|         2|Telefonica|01.01.2023|               10|\n",
      "|         1|      null|02.01.2023|               20|\n",
      "|         1|      null|03.01.2023|                5|\n",
      "|         2|      null|03.01.2023|                7|\n",
      "|         3|   Inditex|04.01.2023|                4|\n",
      "+----------+----------+----------+-----------------+\n",
      "\n"
     ]
    }
   ],
   "source": [
    "df.show()"
   ]
  },
  {
   "cell_type": "markdown",
   "id": "73ebdb60",
   "metadata": {},
   "source": [
    "Create new dataframe with distinct names"
   ]
  },
  {
   "cell_type": "code",
   "execution_count": 6,
   "id": "3adde2cd",
   "metadata": {},
   "outputs": [],
   "source": [
    "df1 = df.filter(f.col('nombre').isNotNull()).distinct().orderBy('id_cliente').drop('dia', 'numero de accesos')"
   ]
  },
  {
   "cell_type": "code",
   "execution_count": 7,
   "id": "d70033d0",
   "metadata": {},
   "outputs": [
    {
     "name": "stdout",
     "output_type": "stream",
     "text": [
      "+----------+----------+\n",
      "|id_cliente|    nombre|\n",
      "+----------+----------+\n",
      "|         1|    Repsol|\n",
      "|         2|Telefonica|\n",
      "|         3|   Inditex|\n",
      "+----------+----------+\n",
      "\n"
     ]
    }
   ],
   "source": [
    "df1.show()"
   ]
  },
  {
   "cell_type": "markdown",
   "id": "c3441b9e",
   "metadata": {},
   "source": [
    "Join two dataframes, drop the old names column and leave the new one"
   ]
  },
  {
   "cell_type": "code",
   "execution_count": 13,
   "id": "e446511e",
   "metadata": {},
   "outputs": [],
   "source": [
    "new_df = df.drop('nombre').join(df1, how = 'left_outer', on = [\"id_cliente\"])\n",
    "new_df = new_df.select('id_cliente', 'nombre', 'dia', 'numero de accesos')"
   ]
  },
  {
   "cell_type": "code",
   "execution_count": 14,
   "id": "258a00ea",
   "metadata": {},
   "outputs": [
    {
     "name": "stdout",
     "output_type": "stream",
     "text": [
      "+----------+----------+----------+-----------------+\n",
      "|id_cliente|    nombre|       dia|numero de accesos|\n",
      "+----------+----------+----------+-----------------+\n",
      "|         1|    Repsol|01.01.2023|               30|\n",
      "|         2|Telefonica|01.01.2023|               10|\n",
      "|         1|    Repsol|02.01.2023|               20|\n",
      "|         1|    Repsol|03.01.2023|                5|\n",
      "|         2|Telefonica|03.01.2023|                7|\n",
      "|         3|   Inditex|04.01.2023|                4|\n",
      "+----------+----------+----------+-----------------+\n",
      "\n"
     ]
    }
   ],
   "source": [
    "new_df.show()"
   ]
  },
  {
   "cell_type": "markdown",
   "id": "768858a7",
   "metadata": {},
   "source": [
    "<b>Task 2</b>"
   ]
  },
  {
   "cell_type": "code",
   "execution_count": 15,
   "id": "ed9c6296",
   "metadata": {},
   "outputs": [],
   "source": [
    "path = \"/Users/Savelyev_Ilya/Desktop/Task2.csv\""
   ]
  },
  {
   "cell_type": "code",
   "execution_count": 16,
   "id": "456b1d15",
   "metadata": {},
   "outputs": [],
   "source": [
    "df2 = spark.read.option(\"delimiter\", \";\").option(\"header\", True).csv(path)"
   ]
  },
  {
   "cell_type": "code",
   "execution_count": 17,
   "id": "b0f48f03",
   "metadata": {},
   "outputs": [
    {
     "name": "stdout",
     "output_type": "stream",
     "text": [
      "+----------+-----------+----------+-----------------+\n",
      "|id cliente|     nombre|       dia|numero de accesos|\n",
      "+----------+-----------+----------+-----------------+\n",
      "|         1|     Repsol|01.01.2023|               30|\n",
      "|         1|       null|02.01.2023|               20|\n",
      "|         1|Repsol S.A.|03.01.2023|                5|\n",
      "|         1|       null|04.01.2023|               10|\n",
      "+----------+-----------+----------+-----------------+\n",
      "\n"
     ]
    }
   ],
   "source": [
    "df2.show()"
   ]
  },
  {
   "cell_type": "markdown",
   "id": "4fffc86c",
   "metadata": {},
   "source": [
    "Create new dataframe with last used name"
   ]
  },
  {
   "cell_type": "code",
   "execution_count": 30,
   "id": "5f9cd54d",
   "metadata": {},
   "outputs": [],
   "source": [
    "df2_name = df2.filter(f.col('nombre').isNotNull()).orderBy(f.col('dia').desc()).limit(1)\n",
    "df2_name = df2_name.drop('dia', 'numero de accesos')"
   ]
  },
  {
   "cell_type": "code",
   "execution_count": 31,
   "id": "bf70c0c8",
   "metadata": {},
   "outputs": [
    {
     "name": "stdout",
     "output_type": "stream",
     "text": [
      "+----------+-----------+\n",
      "|id cliente|     nombre|\n",
      "+----------+-----------+\n",
      "|         1|Repsol S.A.|\n",
      "+----------+-----------+\n",
      "\n"
     ]
    }
   ],
   "source": [
    "df2_name.show()"
   ]
  },
  {
   "cell_type": "markdown",
   "id": "fb94ad39",
   "metadata": {},
   "source": [
    "Join two dataframes, drop the old names column and apply last used name to all the rows"
   ]
  },
  {
   "cell_type": "code",
   "execution_count": 32,
   "id": "27838c20",
   "metadata": {},
   "outputs": [],
   "source": [
    "df2_new = df2.drop('nombre').join(df2_name, how = 'left_outer', on = ['id cliente'])\n",
    "df2_new = df2_new.select('id cliente', 'nombre', 'dia', 'numero de accesos')"
   ]
  },
  {
   "cell_type": "code",
   "execution_count": 33,
   "id": "d463144b",
   "metadata": {},
   "outputs": [
    {
     "name": "stdout",
     "output_type": "stream",
     "text": [
      "+----------+-----------+----------+-----------------+\n",
      "|id cliente|     nombre|       dia|numero de accesos|\n",
      "+----------+-----------+----------+-----------------+\n",
      "|         1|Repsol S.A.|01.01.2023|               30|\n",
      "|         1|Repsol S.A.|02.01.2023|               20|\n",
      "|         1|Repsol S.A.|03.01.2023|                5|\n",
      "|         1|Repsol S.A.|04.01.2023|               10|\n",
      "+----------+-----------+----------+-----------------+\n",
      "\n"
     ]
    }
   ],
   "source": [
    "df2_new.show()"
   ]
  },
  {
   "cell_type": "markdown",
   "id": "88e6d363",
   "metadata": {},
   "source": [
    "<b>Task 3</b>"
   ]
  },
  {
   "cell_type": "code",
   "execution_count": 40,
   "id": "7719e042",
   "metadata": {},
   "outputs": [],
   "source": [
    "path = \"/Users/Savelyev_Ilya/Desktop/Task3_1.csv\""
   ]
  },
  {
   "cell_type": "code",
   "execution_count": 41,
   "id": "1f7babc2",
   "metadata": {},
   "outputs": [],
   "source": [
    "df3_1 = spark.read.option(\"delimiter\", \";\").option(\"header\", True).csv(path)"
   ]
  },
  {
   "cell_type": "code",
   "execution_count": 42,
   "id": "7b2d93df",
   "metadata": {},
   "outputs": [
    {
     "name": "stdout",
     "output_type": "stream",
     "text": [
      "+----------+----------+----------+-----------------+\n",
      "|id cliente|    nombre|       dia|numero de accesos|\n",
      "+----------+----------+----------+-----------------+\n",
      "|         1|Repsol S.A|01.01.2023|               30|\n",
      "|         1|      null|02.01.2023|               20|\n",
      "|         1|Repsol S.A|02.01.2023|                5|\n",
      "+----------+----------+----------+-----------------+\n",
      "\n"
     ]
    }
   ],
   "source": [
    "df3_1.show()"
   ]
  },
  {
   "cell_type": "code",
   "execution_count": 37,
   "id": "7236566f",
   "metadata": {},
   "outputs": [],
   "source": [
    "path = \"/Users/Savelyev_Ilya/Desktop/Task3_2.csv\""
   ]
  },
  {
   "cell_type": "code",
   "execution_count": 38,
   "id": "66708e5e",
   "metadata": {},
   "outputs": [],
   "source": [
    "df3_2 = spark.read.option(\"delimiter\", \";\").option(\"header\", True).csv(path)"
   ]
  },
  {
   "cell_type": "code",
   "execution_count": 39,
   "id": "0d2c11d9",
   "metadata": {},
   "outputs": [
    {
     "name": "stdout",
     "output_type": "stream",
     "text": [
      "+----------+----------+----------+-----------------+\n",
      "|id cliente|    nombre|       dia|numero de accesos|\n",
      "+----------+----------+----------+-----------------+\n",
      "|         1|Repsol S.A|01.01.2023|               30|\n",
      "|         1|      null|02.01.2023|               25|\n",
      "+----------+----------+----------+-----------------+\n",
      "\n"
     ]
    }
   ],
   "source": [
    "df3_2.show()"
   ]
  },
  {
   "cell_type": "markdown",
   "id": "11045bf6",
   "metadata": {},
   "source": [
    "Create new dataframe with antijoin for the first dataframe"
   ]
  },
  {
   "cell_type": "code",
   "execution_count": 59,
   "id": "85dd8146",
   "metadata": {},
   "outputs": [],
   "source": [
    "df3_1_anti = df3_1.withColumn('df', f.lit('df3_1')).join(df3_2, (df3_1['id cliente'] == df3_2['id cliente']) & (df3_1['nombre'] == df3_2['nombre']) & (df3_1['dia'] == df3_2['dia']) & (df3_1['numero de accesos'] == df3_2['numero de accesos']),'anti')"
   ]
  },
  {
   "cell_type": "code",
   "execution_count": 60,
   "id": "1d3c676d",
   "metadata": {},
   "outputs": [
    {
     "name": "stdout",
     "output_type": "stream",
     "text": [
      "+----------+----------+----------+-----------------+-----+\n",
      "|id cliente|    nombre|       dia|numero de accesos|   df|\n",
      "+----------+----------+----------+-----------------+-----+\n",
      "|         1|      null|02.01.2023|               20|df3_1|\n",
      "|         1|Repsol S.A|02.01.2023|                5|df3_1|\n",
      "+----------+----------+----------+-----------------+-----+\n",
      "\n"
     ]
    }
   ],
   "source": [
    "df3_anti.show()"
   ]
  },
  {
   "cell_type": "markdown",
   "id": "89e4c9f6",
   "metadata": {},
   "source": [
    "Create new dataframe with antijoin for the second dataframe"
   ]
  },
  {
   "cell_type": "code",
   "execution_count": 61,
   "id": "faca8315",
   "metadata": {},
   "outputs": [],
   "source": [
    "df3_2_anti = df3_2.withColumn('df', f.lit('df3_2')).join(df3_1, (df3_1['id cliente'] == df3_2['id cliente']) & (df3_1['nombre'] == df3_2['nombre']) & (df3_1['dia'] == df3_2['dia']) & (df3_1['numero de accesos'] == df3_2['numero de accesos']),'anti')"
   ]
  },
  {
   "cell_type": "code",
   "execution_count": 62,
   "id": "f9baf503",
   "metadata": {},
   "outputs": [
    {
     "name": "stdout",
     "output_type": "stream",
     "text": [
      "+----------+------+----------+-----------------+-----+\n",
      "|id cliente|nombre|       dia|numero de accesos|   df|\n",
      "+----------+------+----------+-----------------+-----+\n",
      "|         1|  null|02.01.2023|               25|df3_2|\n",
      "+----------+------+----------+-----------------+-----+\n",
      "\n"
     ]
    }
   ],
   "source": [
    "df3_2_anti.show()"
   ]
  },
  {
   "cell_type": "markdown",
   "id": "d5d09162",
   "metadata": {},
   "source": [
    "Union two new dataframes in one"
   ]
  },
  {
   "cell_type": "code",
   "execution_count": 73,
   "id": "a24c00c5",
   "metadata": {},
   "outputs": [],
   "source": [
    "df3_new = df3_1_anti.union(df3_2_anti).select('df', 'id cliente', 'nombre', 'dia', 'numero de accesos').orderBy(f.col('numero de accesos').desc())"
   ]
  },
  {
   "cell_type": "code",
   "execution_count": 74,
   "id": "59635969",
   "metadata": {},
   "outputs": [
    {
     "name": "stdout",
     "output_type": "stream",
     "text": [
      "+-----+----------+----------+----------+-----------------+\n",
      "|   df|id cliente|    nombre|       dia|numero de accesos|\n",
      "+-----+----------+----------+----------+-----------------+\n",
      "|df3_1|         1|Repsol S.A|02.01.2023|                5|\n",
      "|df3_2|         1|      null|02.01.2023|               25|\n",
      "|df3_1|         1|      null|02.01.2023|               20|\n",
      "+-----+----------+----------+----------+-----------------+\n",
      "\n"
     ]
    }
   ],
   "source": [
    "df3_new.show()"
   ]
  },
  {
   "cell_type": "code",
   "execution_count": 75,
   "id": "4d41be03",
   "metadata": {},
   "outputs": [],
   "source": [
    "spark.stop()"
   ]
  },
  {
   "cell_type": "code",
   "execution_count": null,
   "id": "6b82bc65",
   "metadata": {},
   "outputs": [],
   "source": []
  }
 ],
 "metadata": {
  "kernelspec": {
   "display_name": "Python 3 (ipykernel)",
   "language": "python",
   "name": "python3"
  },
  "language_info": {
   "codemirror_mode": {
    "name": "ipython",
    "version": 3
   },
   "file_extension": ".py",
   "mimetype": "text/x-python",
   "name": "python",
   "nbconvert_exporter": "python",
   "pygments_lexer": "ipython3",
   "version": "3.11.4"
  }
 },
 "nbformat": 4,
 "nbformat_minor": 5
}
